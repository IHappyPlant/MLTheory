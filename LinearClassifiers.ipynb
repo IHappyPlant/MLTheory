{
 "cells": [
  {
   "cell_type": "markdown",
   "metadata": {},
   "source": [
    "# Линейные классификаторы"
   ]
  },
  {
   "cell_type": "code",
   "execution_count": 1,
   "metadata": {},
   "outputs": [],
   "source": [
    "import numpy as np\n",
    "from matplotlib.lines import Line2D\n",
    "from matplotlib import pyplot as plt\n",
    "from sklearn.datasets import load_iris\n",
    "from sklearn.metrics import confusion_matrix\n",
    "from sklearn.linear_model import SGDClassifier\n",
    "from sklearn.preprocessing import StandardScaler"
   ]
  },
  {
   "cell_type": "code",
   "execution_count": 2,
   "metadata": {},
   "outputs": [],
   "source": [
    "irises = load_iris()\n",
    "data = irises['data'][50:, 2:]\n",
    "target = irises['target'][50:] - 1\n",
    "target_names = irises['target_names'][1:]\n",
    "colors = np.array(['green', 'blue'])\n",
    "\n",
    "sc = StandardScaler()\n",
    "sc.fit(data)\n",
    "data = sc.transform(data)"
   ]
  },
  {
   "cell_type": "code",
   "execution_count": null,
   "metadata": {},
   "outputs": [],
   "source": [
    "fig, ax = plt.subplots(figsize=(20, 10))\n",
    "ax.scatter(data[:, 0], data[:, 1], color=colors[target])\n",
    "handlers = [Line2D([0], [0], marker='o', color='w', label=target_names[i], \n",
    "            markerfacecolor=colors[i], markersize=15) for i in range(0, len(colors))]\n",
    "handlers.append(Line2D([0], [0], color='red', label='ADALINE'))\n",
    "handlers.append(Line2D([0], [0], color='yellow', label='Perceptron'))\n",
    "handlers.append(Line2D([0], [0], color='pink', label='Logistic Regression'))\n",
    "ax.legend(handles=handlers, loc='lower right')\n",
    "ax.set_title('Irises classification by linear classifiers')\n",
    "\n",
    "\n",
    "\n",
    "x_min, x_max = plt.xlim()\n",
    "y_min, y_max = plt.ylim()\n",
    "xx, yy = np.meshgrid(np.linspace(x_min, x_max, 200),\n",
    "                     np.linspace(y_min, y_max, 200))\n",
    "objects = np.c_[xx.ravel(), yy.ravel()]\n",
    "\n",
    "clf = SGDClassifier(loss='squared_loss', max_iter=20000)\n",
    "clf.fit(data, target)\n",
    "Z = np.array([clf.decision_function([obj]) for obj in objects])\n",
    "Z = Z.reshape(xx.shape)\n",
    "ax.contour(xx, yy, Z, [0], linewidths=2, colors='red')\n",
    "\n",
    "clf = SGDClassifier(loss='perceptron', max_iter=20000)\n",
    "clf.fit(data, target)\n",
    "Z = np.array([clf.decision_function([obj]) for obj in objects])\n",
    "Z = Z.reshape(xx.shape)\n",
    "ax.contour(xx, yy, Z, [0], linewidths=2, colors='yellow')\n",
    "\n",
    "clf = SGDClassifier(loss='log', max_iter=20000)\n",
    "clf.fit(data, target)\n",
    "Z = np.array([clf.decision_function([obj]) for obj in objects])\n",
    "Z = Z.reshape(xx.shape)\n",
    "ax.contour(xx, yy, Z, [0], linewidths=2, colors='pink')\n",
    "\n",
    "plt.show()"
   ]
  },
  {
   "cell_type": "code",
   "execution_count": null,
   "metadata": {},
   "outputs": [],
   "source": []
  }
 ],
 "metadata": {
  "kernelspec": {
   "display_name": "Python 3",
   "language": "python",
   "name": "python3"
  },
  "language_info": {
   "codemirror_mode": {
    "name": "ipython",
    "version": 3
   },
   "file_extension": ".py",
   "mimetype": "text/x-python",
   "name": "python",
   "nbconvert_exporter": "python",
   "pygments_lexer": "ipython3",
   "version": "3.7.3"
  }
 },
 "nbformat": 4,
 "nbformat_minor": 2
}
